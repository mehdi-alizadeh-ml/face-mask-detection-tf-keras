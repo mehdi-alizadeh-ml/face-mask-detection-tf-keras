{
 "cells": [
  {
   "cell_type": "code",
   "execution_count": null,
   "id": "0de89716",
   "metadata": {
    "vscode": {
     "languageId": "plaintext"
    }
   },
   "outputs": [],
   "source": [
    "import kagglehub\n",
    "\n",
    "# Download latest version\n",
    "path = kagglehub.dataset_download(\"hariomnagar123/face-mask-detection-dataset\")\n",
    "\n",
    "print(\"Path to dataset files:\", path)"
   ]
  },
  {
   "cell_type": "code",
   "execution_count": null,
   "id": "dc0bda5d",
   "metadata": {},
   "outputs": [],
   "source": [
    "import os\n",
    "import numpy as np\n",
    "import matplotlib.pyplot as plt\n",
    "from tensorflow.keras.models import Sequential\n",
    "from tensorflow.keras.layers import Conv2D,MaxPooling2D,Dense,Dropout,GlobalAveragePooling2D\n",
    "from tensorflow.keras.preprocessing.image import ImageDataGenerator\n",
    "from tensorflow.keras.callbacks import EarlyStopping,ReduceLROnPlateau\n",
    "from sklearn.utils.class_weight import compute_class_weight\n",
    "from sklearn.metrics import confusion_matrix,classification_report\n",
    "import seaborn as sns"
   ]
  },
  {
   "cell_type": "code",
   "execution_count": null,
   "id": "413499be",
   "metadata": {},
   "outputs": [],
   "source": [
    "path='/root/.cache/kagglehub/datasets/hariomnagar123/face-mask-detection-dataset/versions/1'\n",
    "print(os.listdir(path))"
   ]
  },
  {
   "cell_type": "code",
   "execution_count": null,
   "id": "414204d7",
   "metadata": {},
   "outputs": [],
   "source": [
    "path=path+'/FMD_Dataset'\n",
    "print(os.listdir(path))"
   ]
  },
  {
   "cell_type": "code",
   "execution_count": null,
   "id": "dfbbaf31",
   "metadata": {},
   "outputs": [],
   "source": [
    "train=path+\"/train\"\n",
    "valid=path+\"/valid\"\n"
   ]
  },
  {
   "cell_type": "code",
   "execution_count": null,
   "id": "4ecbaa54",
   "metadata": {},
   "outputs": [],
   "source": [
    "train_gen=ImageDataGenerator(\n",
    "    rescale=1./255,\n",
    "    rotation_range=0.2,\n",
    "    width_shift_range=0.2,\n",
    "    height_shift_range=0.2,\n",
    "    shear_range=0.2,\n",
    "    zoom_range=0.2\n",
    ")\n",
    "\n",
    "valid_gen=ImageDataGenerator(\n",
    "    rescale=1./255\n",
    ")\n",
    "\n",
    "train_data=train_gen.flow_from_directory(\n",
    "    train,\n",
    "    target_size=(128,128),\n",
    "    batch_size=32,\n",
    "    class_mode='binary'\n",
    ")\n",
    "\n",
    "valid_data=valid_gen.flow_from_directory(\n",
    "    valid,\n",
    "    target_size=(128,128),\n",
    "    batch_size=32,\n",
    "    class_mode='binary',\n",
    "    shuffle=False \n",
    ")"
   ]
  },
  {
   "cell_type": "code",
   "execution_count": null,
   "id": "6f36d2cb",
   "metadata": {},
   "outputs": [],
   "source": [
    "labels=train_data.class_indices\n",
    "class_weights=compute_class_weight(\n",
    "    class_weight=\"balanced\",\n",
    "    classes=np.unique(train_data.classes),\n",
    "    y=train_data.classes\n",
    ")\n",
    "class_weights_dict=dict(enumerate(class_weights))\n",
    "print(class_weights_dict)"
   ]
  },
  {
   "cell_type": "code",
   "execution_count": null,
   "id": "38e55abb",
   "metadata": {},
   "outputs": [],
   "source": [
    "model=Sequential([\n",
    "    Conv2D(32,(3,3),activation='relu',input_shape=(128,128,3)),\n",
    "    MaxPooling2D((2,2)),\n",
    "\n",
    "    Conv2D(64,(3,3),activation='relu'),\n",
    "    MaxPooling2D((2,2)),\n",
    "\n",
    "    Conv2D(128,(3,3),activation='relu'),\n",
    "    MaxPooling2D((2,2)),\n",
    "\n",
    "    GlobalAveragePooling2D(),\n",
    "    Dense(128,activation='relu'),\n",
    "    Dropout(0.5),\n",
    "    Dense(1,activation='sigmoid')\n",
    "\n",
    "\n",
    "])"
   ]
  },
  {
   "cell_type": "code",
   "execution_count": null,
   "id": "d62429ac",
   "metadata": {},
   "outputs": [],
   "source": [
    "model.compile(loss='binary_crossentropy',optimizer='adam',metrics=['accuracy'])"
   ]
  },
  {
   "cell_type": "code",
   "execution_count": null,
   "id": "ff9dde71",
   "metadata": {},
   "outputs": [],
   "source": [
    "early_stop=EarlyStopping(\n",
    "    monitor='val_loss',\n",
    "    patience=3,\n",
    "    restore_best_weights=True\n",
    "    )\n",
    "\n",
    "reduce_lr=ReduceLROnPlateau(\n",
    "    monitor='val_loss',\n",
    "    patience=2,\n",
    "    factor=0.5,\n",
    "    min_lr=1e-6\n",
    ")"
   ]
  },
  {
   "cell_type": "code",
   "execution_count": null,
   "id": "30323431",
   "metadata": {},
   "outputs": [],
   "source": [
    "history=model.fit(\n",
    "    train_data,\n",
    "    epochs=25,\n",
    "    validation_data=valid_data,\n",
    "    class_weight=class_weights_dict,\n",
    "    callbacks=[early_stop,reduce_lr]\n",
    ")"
   ]
  },
  {
   "cell_type": "code",
   "execution_count": null,
   "id": "a309b365",
   "metadata": {},
   "outputs": [],
   "source": [
    "val_loss,val_acc=model.evaluate(valid_data)\n",
    "print(f\"Validation Loss: {val_loss}\")\n",
    "print(f\"Validation Accuracy: {val_acc}\")"
   ]
  },
  {
   "cell_type": "code",
   "execution_count": null,
   "id": "cfb057e8",
   "metadata": {},
   "outputs": [],
   "source": [
    "valid_data.reset()\n",
    "y_pred=model.predict(valid_data,verbose=1)\n",
    "y_pred=(y_pred>0.5).astype(int).flatten()\n",
    "y_true=valid_data.classes\n",
    "labels=list(valid_data.class_indices.keys())\n",
    "\n",
    "cm=confusion_matrix(y_true,y_pred)\n",
    "\n",
    "plt.figure(figsize=(6, 5))\n",
    "sns.heatmap(cm, annot=True, fmt='d', cmap='Blues', xticklabels=labels, yticklabels=labels)\n",
    "plt.xlabel('Predicted Labels')\n",
    "plt.ylabel('True Labels')\n",
    "plt.title('Confusion Matrix')\n",
    "plt.tight_layout()\n",
    "plt.savefig(\"confusion_matrix.png\")  \n",
    "\n",
    "print(\"\\nClassification Report:\\n\")\n",
    "print(classification_report(y_true, y_pred, target_names=labels))"
   ]
  }
 ],
 "metadata": {
  "language_info": {
   "name": "python"
  }
 },
 "nbformat": 4,
 "nbformat_minor": 5
}
